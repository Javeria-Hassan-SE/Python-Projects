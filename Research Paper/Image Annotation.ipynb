{
 "cells": [
  {
   "cell_type": "code",
   "execution_count": 47,
   "id": "53550ef4",
   "metadata": {},
   "outputs": [],
   "source": [
    "import cv2\n",
    "\n",
    "# Load the graph image\n",
    "image = cv2.imread(r'C:\\Users\\HP\\Downloads\\graph.jpeg')\n",
    "\n",
    "# Define the coordinates and labels for different elements\n",
    "title_label = 'Graph Title'\n",
    "x_label = 'X-Axis Label'\n",
    "y_label = 'Y-Axis Label'\n",
    "\n",
    "# Calculate the positions of the elements\n",
    "title_coords = (image.shape[1] // 2 - len(title_label) * 6, 50)\n",
    "x_label_coords = (image.shape[1] // 2 - len(x_label) * 6, image.shape[0] - 20)\n",
    "y_label_coords = (20, image.shape[0] // 2)\n",
    "\n",
    "# Draw rectangles and labels on the image\n",
    "cv2.rectangle(image, (title_coords[0] - 10, title_coords[1] - 30), (title_coords[0] + len(title_label) * 12, title_coords[1] + 10), (0, 0, 255))\n",
    "cv2.putText(image, title_label, title_coords, cv2.FONT_HERSHEY_SIMPLEX, 0.6, (0, 0, 0), 2)\n",
    "\n",
    "cv2.putText(image, x_label, x_label_coords, cv2.FONT_HERSHEY_SIMPLEX, 0.6, (0, 0, 0), 2)\n",
    "cv2.putText(image, y_label, y_label_coords, cv2.FONT_HERSHEY_SIMPLEX, 0.6, (0, 0, 0), 2)\n",
    "\n",
    "# Detect and label legends (if present)\n",
    "legends = ['Legend']  # Replace with the actual legends or use a legend detection algorithm\n",
    "\n",
    "legend_start_y = 100  # Initial y-coordinate for legends\n",
    "legend_gap = 30  # Gap between consecutive legends\n",
    "\n",
    "for legend_text in legends:\n",
    "    legend_width = len(legend_text) * 8\n",
    "    if image.shape[1] - legend_width > legend_width:\n",
    "        # Legends on the right side\n",
    "        legend_coords = (image.shape[1] - legend_width - 20, legend_start_y)\n",
    "    else:\n",
    "        # Legends on the left side\n",
    "        legend_coords = (20, legend_start_y)\n",
    "    cv2.putText(image, legend_text, legend_coords, cv2.FONT_HERSHEY_SIMPLEX, 0.6, (0, 0, 0), 2)\n",
    "    legend_start_y += legend_gap\n",
    "\n",
    "# Display the labeled image\n",
    "cv2.imshow('Labeled Graph', image)\n",
    "cv2.waitKey(0)\n",
    "cv2.destroyAllWindows()\n"
   ]
  },
  {
   "cell_type": "code",
   "execution_count": null,
   "id": "41d4fa9f",
   "metadata": {},
   "outputs": [],
   "source": []
  }
 ],
 "metadata": {
  "kernelspec": {
   "display_name": "Python 3 (ipykernel)",
   "language": "python",
   "name": "python3"
  },
  "language_info": {
   "codemirror_mode": {
    "name": "ipython",
    "version": 3
   },
   "file_extension": ".py",
   "mimetype": "text/x-python",
   "name": "python",
   "nbconvert_exporter": "python",
   "pygments_lexer": "ipython3",
   "version": "3.9.13"
  }
 },
 "nbformat": 4,
 "nbformat_minor": 5
}
